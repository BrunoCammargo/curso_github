{
 "cells": [
  {
   "cell_type": "markdown",
   "metadata": {},
   "source": [
    "# O que é são branches (galhos) ?\n",
    "\n",
    "- É uma maneira que o git disponibilizar para __separar versões__ do projeto, __gerenciar melhor o projeto__\n",
    "\n",
    "- Criando um novo projeto ele inicia sempre na Branch __main__ ou __master__\n"
   ]
  },
  {
   "cell_type": "markdown",
   "metadata": {},
   "source": [
    "# Criando branch\n",
    "\n",
    "- Para visualizamos todas as branches do nosso projeto, podemos utilizar o comando __git branch__\n",
    "\n",
    "- O nome que estive com um __*__ no lado e em verde é a branch atual do projeto\n",
    "\n",
    "- Para criamos uma nova branhc, usamos o mesmo comando, seguido de o nome que iremos dar para a branhc, EX: __git branch pagina_cadastro__\n"
   ]
  },
  {
   "cell_type": "markdown",
   "metadata": {},
   "source": [
    "# Trocando de branch\n",
    "\n",
    "- Para mudamos de branch podemos simplesmente utilizar o seguinte comando: __git checkout <nome_da_branch>__\n",
    "\n",
    "- Para fazemos isso de formar automatica, ou seja criamos a branch e ja irmos para ela, utilizamos o comando: __git checkout -b \"nome_da_branch__\""
   ]
  },
  {
   "cell_type": "markdown",
   "metadata": {},
   "source": [
    "# Deletando uma branch\n",
    "\n",
    "- Para deletar uma branch indesejada utilizamos o comando: __git branch -d nome_do_branch, EX: __git branch -d pagina_home__"
   ]
  },
  {
   "cell_type": "markdown",
   "metadata": {},
   "source": [
    "# Unindo Branches\n",
    "\n",
    "- Primeiro vamos ate a branch que sera o alvo do nosso merge, EX: main\n",
    "\n",
    "- Agora para trazer todo o conteudo de outra branch para a nossa selecioanda utilizamos o comando: __git merge nome_da_branch__"
   ]
  },
  {
   "cell_type": "markdown",
   "metadata": {},
   "source": [
    "# Conhecendo o Stash\n",
    "\n",
    "- "
   ]
  }
 ],
 "metadata": {
  "kernelspec": {
   "display_name": "Python 3 (ipykernel)",
   "language": "python",
   "name": "python3"
  },
  "language_info": {
   "codemirror_mode": {
    "name": "ipython",
    "version": 3
   },
   "file_extension": ".py",
   "mimetype": "text/x-python",
   "name": "python",
   "nbconvert_exporter": "python",
   "pygments_lexer": "ipython3",
   "version": "3.10.13"
  }
 },
 "nbformat": 4,
 "nbformat_minor": 2
}
