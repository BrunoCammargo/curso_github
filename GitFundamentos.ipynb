{
 "cells": [
  {
   "cell_type": "markdown",
   "metadata": {},
   "source": [
    "# O que é um repositório (repo) ?\n",
    "\n",
    "- É onde o codigo será armazenado\n",
    "\n",
    "- Na maioria das vezes cada projeto tem um reprositório\n",
    "\n",
    "- Quando Criamos um repositorio estamos iniciando um projeto\n",
    "\n",
    "- O repositorio pode ir para servidores que são especializados em gerenciar repos, como: GitHub e Bitbucket\n",
    "\n",
    "- Cada um dos desenvolvedores do time pode baixar o repositorio e criar versões diferentes em sua maquina\n",
    "\n"
   ]
  },
  {
   "cell_type": "markdown",
   "metadata": {
    "notebookRunGroups": {
     "groupValue": "1"
    }
   },
   "source": [
    "# Criando um repositório\n",
    "\n",
    "- Para criar um repositório utilizamos o comando: __git init__\n",
    "\n",
    "- Desta maneira o git vai criar os arquivos necessários para inicializá-lo\n",
    "\n",
    "- Que esta na pasta oculta __.git__\n",
    "\n",
    "- Após este comando o diretório atual __será reconhecido pelo git como um projeto__ e responderá aos seus demais comandos\n"
   ]
  },
  {
   "cell_type": "markdown",
   "metadata": {},
   "source": [
    "# Verificando Alterações\n",
    "\n",
    "- Ao executar o comando __git status__, ele mostara uma serie de informações sobre nosso projeto, incluindo os arquivos que ainda não foram adicionados ao Projeto\n",
    "\n",
    "- Para adicionar um arquivo ao Projeto usamos __git add <nome_do_arquivo>__ || EX: __git add arquivo_teste.txt__\n",
    "\n",
    "- Para enviar tudo dentro da pasta para ser enviado ao Projeto utilizamos o comando __git add .__"
   ]
  },
  {
   "cell_type": "markdown",
   "metadata": {},
   "source": [
    "# Salvando nossos arquivos (Commit)\n",
    "\n",
    "- Agora depois de temos adicionados arquivos ao nosso projeto, precisamos enviar eles para o repositorio, assim salvando ele\n",
    "\n",
    "- Para isso usamos o comando __git commit <nome_do_arquivo> -m \"_Mensagem do commit_\"__ para adicionamos apenas um arquivo por vez no nosso repo\n",
    "\n",
    "- "
   ]
  }
 ],
 "metadata": {
  "kernelspec": {
   "display_name": "Python 3 (ipykernel)",
   "language": "python",
   "name": "python3"
  },
  "language_info": {
   "codemirror_mode": {
    "name": "ipython",
    "version": 3
   },
   "file_extension": ".py",
   "mimetype": "text/x-python",
   "name": "python",
   "nbconvert_exporter": "python",
   "pygments_lexer": "ipython3",
   "version": "3.10.13"
  }
 },
 "nbformat": 4,
 "nbformat_minor": 2
}
