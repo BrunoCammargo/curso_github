{
 "cells": [
  {
   "cell_type": "markdown",
   "metadata": {},
   "source": [
    "# O que é um repositório (repo) ?\n",
    "\n",
    "- É onde o codigo será armazenado\n",
    "\n",
    "- Na maioria das vezes cada projeto tem um reprositório\n",
    "\n",
    "- Quando Criamos um repositorio estamos iniciando um projeto\n",
    "\n",
    "- O repositorio pode ir para servidores que são especializados em gerenciar repos, como: GitHub e Bitbucket\n",
    "\n",
    "- Cada um dos desenvolvedores do time pode baixar o repositorio e criar versões diferentes em sua maquina\n",
    "\n"
   ]
  },
  {
   "cell_type": "markdown",
   "metadata": {
    "notebookRunGroups": {
     "groupValue": "1"
    }
   },
   "source": [
    "# Criando um repositório\n",
    "\n",
    "- Para criar um repositório utilizamos o comando: __git init__\n",
    "\n",
    "- Desta maneira o git vai criar os arquivos necessários para inicializá-lo\n",
    "\n",
    "- Que esta na pasta oculta __.git__\n",
    "\n",
    "- Após este comando o diretório atual __será reconhecido pelo git como um projeto__ e responderá aos seus demais comandos\n"
   ]
  },
  {
   "cell_type": "markdown",
   "metadata": {},
   "source": [
    "# Verificando Alterações\n",
    "\n",
    "- Ao executar o comando __git status__, ele mostara uma serie de informações sobre nosso projeto, incluindo os arquivos que ainda não foram adicionados ao Projeto\n",
    "\n",
    "- Para adicionar um arquivo ao Projeto usamos __git add <nome_do_arquivo>__ || EX: __git add arquivo_teste.txt__\n",
    "\n",
    "- Para enviar tudo dentro da pasta para ser enviado ao Projeto utilizamos o comando __git add .__"
   ]
  },
  {
   "cell_type": "markdown",
   "metadata": {},
   "source": [
    "# Salvando nossos arquivos (Commit)\n",
    "\n",
    "- Agora depois de temos adicionados arquivos ao nosso projeto, precisamos enviar eles para o repositorio, assim salvando ele\n",
    "\n",
    "- Para isso usamos o comando __git commit <nome_do_arquivo> -m \"_Mensagem do commit_\"__ para adicionamos apenas um arquivo por vez no nosso repo\n",
    "\n",
    "- Para adicionamos tudo de uma vez usamdo da sequinte maneira __git commit -m \"_Mensagem do Commit\"__"
   ]
  },
  {
   "cell_type": "markdown",
   "metadata": {},
   "source": [
    "# Oque é o Github ?\n",
    "\n",
    "- Serviço para __hospedar/gerenciar__ repositórios\n",
    "\n",
    "- Podemos subir nossos repositórios no github e disponibilizá-lo para outros devs gerencias versões do nosso projeto, trabalhar em equipe\n"
   ]
  },
  {
   "cell_type": "markdown",
   "metadata": {},
   "source": [
    "# Enviando Repositorio pro Github\n",
    "\n",
    "- Primeiro passo temos que ir no Github e criamos um novo repositorio la\n",
    "\n",
    "- Depois disso utilizamos o comando __git remote add origin <link_do_repo>__ para adicionamos a referenciar ao nosso repositorio la do Github\n",
    "\n",
    "- E por fim para enviamos para o nosso Github usamos o comand __git push -u origin main__\n"
   ]
  },
  {
   "cell_type": "markdown",
   "metadata": {},
   "source": [
    "# Adicionando Novos Arquivos\n",
    "\n",
    "- Praticando...."
   ]
  },
  {
   "cell_type": "markdown",
   "metadata": {},
   "source": [
    "# Recebendo Alterações\n",
    "\n",
    "- Digamos que no Github alteramos algum arquivo, ou mesmo adicionamos um novo, como iremos receber essas alterações?\n",
    "\n",
    "- Para usamos o comando __git pull__ que traz ja tudo para mim e sincronizar com meu projeto atual"
   ]
  },
  {
   "cell_type": "markdown",
   "metadata": {},
   "source": [
    "# Clonando Repositorios\n",
    "\n",
    "- Primero vamos la no Github e pegamos o __https__ do repositorio que queremnos clonar\n",
    "\n",
    "- Depois disso usamos o comando __git clone <https_do_repo>__ com isso uma pasta sera criada com o nome do nosso repositorio e todo o conteudo dele dentro dela\n",
    "\n",
    "- Se caso inves de queremos na hora de clonar coloca tudo direto na pasta normal ja do projeto e só no final do comando da um espaço e coloca um ."
   ]
  },
  {
   "cell_type": "markdown",
   "metadata": {},
   "source": [
    "# Acessando log\n",
    "\n",
    "- Utilizando o comando __git log__ ele nós mostra todos os nossos commits, com a mensagem deles, quem criou e etc...\n"
   ]
  },
  {
   "cell_type": "markdown",
   "metadata": {},
   "source": [
    "# Revertendo Arquivos\n",
    "\n",
    "- Caso a gente tenha modificado um arquivo e queremos volta ao estado do ultimo commit\n",
    "\n",
    "- Para isso usamos o comando __git chekout <nome_arq>__"
   ]
  },
  {
   "cell_type": "markdown",
   "metadata": {},
   "source": [
    "# Ignorar Arquivos\n",
    "\n",
    "- Caso a gente tenha arquivos / pastas que não queremos que sejam enviados para nosso repositorio, oque fazer?\n",
    "\n",
    "- Para isso criamos um arquivo chamado __.gitignore__, e nele escrevos os nomes dos arquivos e pasta que queremos ignora"
   ]
  }
 ],
 "metadata": {
  "kernelspec": {
   "display_name": "Python 3 (ipykernel)",
   "language": "python",
   "name": "python3"
  },
  "language_info": {
   "codemirror_mode": {
    "name": "ipython",
    "version": 3
   },
   "file_extension": ".py",
   "mimetype": "text/x-python",
   "name": "python",
   "nbconvert_exporter": "python",
   "pygments_lexer": "ipython3",
   "version": "3.10.13"
  }
 },
 "nbformat": 4,
 "nbformat_minor": 2
}
